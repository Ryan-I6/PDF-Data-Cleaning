{
 "cells": [
  {
   "cell_type": "code",
   "execution_count": 27,
   "id": "63225d1e-1c51-4cda-8be3-b8d2a922d659",
   "metadata": {},
   "outputs": [],
   "source": [
    "import requests\n",
    "import pdfplumber\n",
    "import pandas as pd\n",
    "import re\n",
    "from collections import namedtuple"
   ]
  },
  {
   "cell_type": "code",
   "execution_count": 28,
   "id": "e3d2220e-bb12-4863-8445-f0812fa3ee3e",
   "metadata": {},
   "outputs": [],
   "source": [
    "#Data Structure used to yield the results and will be converted to dataframe later\n",
    "Data = namedtuple('Data', 'Date Ship_mode Balance_due Subtotal Discount Shipping Grand_total Order_ID' )\n",
    "line_items = []"
   ]
  },
  {
   "cell_type": "code",
   "execution_count": 29,
   "id": "9c9901ce-9d28-45f4-94e4-6b33c0046b37",
   "metadata": {},
   "outputs": [
    {
     "name": "stdout",
     "output_type": "stream",
     "text": [
      "SuperStore INVOICE\n",
      "# 36258\n",
      "Date: Mar 06 2012\n",
      "Bill To: Ship To:\n",
      "Ship Mode: First Class\n",
      "Aaron Bergman 98103, Seattle,\n",
      "Washington, United\n",
      "Balance Due: $50.10\n",
      "States\n",
      "Item Quantity Rate Amount\n",
      "Global Push Button Manager's Chair, Indigo 1 $48.71 $48.71\n",
      "Chairs, Furniture, FUR-CH-4421\n",
      "Subtotal: $48.71\n",
      "Discount (20%): $9.74\n",
      "Shipping: $11.13\n",
      "Total: $50.10\n",
      "Notes:\n",
      "Thanks for your business!\n",
      "Terms:\n",
      "Order ID : CA-2012-AB10015140-40974\n"
     ]
    }
   ],
   "source": [
    "#How to extract the text from the PDF And view it in the notebook\n",
    "pdf_path = 'invoice_Aaron Bergman_36258.pdf'\n",
    "\n",
    "with pdfplumber.open(pdf_path) as pdf:\n",
    "    page = pdf.pages[0]\n",
    "    text = page.extract_text()\n",
    "    print(text)"
   ]
  },
  {
   "cell_type": "code",
   "execution_count": 33,
   "id": "5e92f3aa-fc5d-4373-91d8-ab6310bd8f60",
   "metadata": {},
   "outputs": [],
   "source": [
    "#Function to extract the data using line.startswith. You can also use regular expressions to match the lines you want to extract\n",
    "\n",
    "def extract_data_from_pdf(pdf_path):\n",
    "    with pdfplumber.open(pdf_path) as pdf:\n",
    "        Date, Ship_mode, Balance_due, Subtotal, Discount, Shipping, Grand_total, Order_ID = None, None, None, None, None, None, None, None\n",
    "        for page in pdf.pages:\n",
    "            text = page.extract_text()\n",
    "            \n",
    "            for idx, line in enumerate(text.split('\\n')):\n",
    "                if line.startswith('Date:'):\n",
    "                    list = line.split()\n",
    "                    Date = ' '.join(list[1:])\n",
    "                if line.startswith('Ship Mode:'):\n",
    "                    list = line.split()\n",
    "                    Ship_mode = ' '.join(list[2:])\n",
    "                if line.startswith('Balance Due:'):\n",
    "                    list = line.split()\n",
    "                    Balance_due = list[2]\n",
    "                if line.startswith('Subtotal:'):\n",
    "                    list = line.split()\n",
    "                    Subtotal = list[1]\n",
    "                if line.startswith('Discount'):\n",
    "                    list = line.split()\n",
    "                    Discount = list[2]\n",
    "                if line.startswith('Shipping'):\n",
    "                    list = line.split()\n",
    "                    Shipping = list[1]\n",
    "                if line.startswith('Total'):\n",
    "                    list = line.split()\n",
    "                    Grand_total = list[1]\n",
    "                if line.startswith('Order ID :'):\n",
    "                    list = line.split()\n",
    "                    Order_ID = list[3]\n",
    "                    if Order_ID != None:\n",
    "                        yield(Date, Ship_mode, Balance_due, Subtotal, Discount, Shipping, Grand_total, Order_ID)"
   ]
  },
  {
   "cell_type": "code",
   "execution_count": 36,
   "id": "71d185e7-ce8d-4c61-bfca-686e62482693",
   "metadata": {},
   "outputs": [],
   "source": [
    "# The following code goes throught the data in the PDF applying the function above and appends the data to the tuple data sctructure the appends the line items\n",
    "# to the dataframe called df\n",
    "\n",
    "pdf_path = 'invoice_Aaron Bergman_36258.pdf'\n",
    "for data in extract_data_from_pdf(pdf_path):\n",
    "  line_items.append(data)\n",
    "  df = pd.DataFrame(line_items, columns=['Date', 'Ship_mode', 'Balance_due', 'Subtotal', 'Discount', 'Shipping', 'Grand_total', 'Order_ID'])"
   ]
  },
  {
   "cell_type": "code",
   "execution_count": 8,
   "id": "ed2ba758-7a87-40ef-95b2-9a74d2cd2128",
   "metadata": {},
   "outputs": [],
   "source": [
    "# convert to excel\n",
    "df.to_excel('Data.xlxs')"
   ]
  },
  {
   "cell_type": "code",
   "execution_count": 37,
   "id": "6576bfa1-627f-4af4-af4a-21d989cc0397",
   "metadata": {
    "scrolled": true
   },
   "outputs": [
    {
     "data": {
      "text/html": [
       "<div>\n",
       "<style scoped>\n",
       "    .dataframe tbody tr th:only-of-type {\n",
       "        vertical-align: middle;\n",
       "    }\n",
       "\n",
       "    .dataframe tbody tr th {\n",
       "        vertical-align: top;\n",
       "    }\n",
       "\n",
       "    .dataframe thead th {\n",
       "        text-align: right;\n",
       "    }\n",
       "</style>\n",
       "<table border=\"1\" class=\"dataframe\">\n",
       "  <thead>\n",
       "    <tr style=\"text-align: right;\">\n",
       "      <th></th>\n",
       "      <th>Date</th>\n",
       "      <th>Ship_mode</th>\n",
       "      <th>Balance_due</th>\n",
       "      <th>Subtotal</th>\n",
       "      <th>Discount</th>\n",
       "      <th>Shipping</th>\n",
       "      <th>Grand_total</th>\n",
       "      <th>Order_ID</th>\n",
       "    </tr>\n",
       "  </thead>\n",
       "  <tbody>\n",
       "    <tr>\n",
       "      <th>0</th>\n",
       "      <td>Mar 06 2012</td>\n",
       "      <td>First Class</td>\n",
       "      <td>$50.10</td>\n",
       "      <td>$48.71</td>\n",
       "      <td>$9.74</td>\n",
       "      <td>$11.13</td>\n",
       "      <td>$50.10</td>\n",
       "      <td>CA-2012-AB10015140-40974</td>\n",
       "    </tr>\n",
       "  </tbody>\n",
       "</table>\n",
       "</div>"
      ],
      "text/plain": [
       "          Date    Ship_mode Balance_due Subtotal Discount Shipping  \\\n",
       "0  Mar 06 2012  First Class      $50.10   $48.71    $9.74   $11.13   \n",
       "\n",
       "  Grand_total                  Order_ID  \n",
       "0      $50.10  CA-2012-AB10015140-40974  "
      ]
     },
     "execution_count": 37,
     "metadata": {},
     "output_type": "execute_result"
    }
   ],
   "source": [
    "df"
   ]
  }
 ],
 "metadata": {
  "kernelspec": {
   "display_name": "Python 3 (ipykernel)",
   "language": "python",
   "name": "python3"
  },
  "language_info": {
   "codemirror_mode": {
    "name": "ipython",
    "version": 3
   },
   "file_extension": ".py",
   "mimetype": "text/x-python",
   "name": "python",
   "nbconvert_exporter": "python",
   "pygments_lexer": "ipython3",
   "version": "3.11.7"
  }
 },
 "nbformat": 4,
 "nbformat_minor": 5
}
